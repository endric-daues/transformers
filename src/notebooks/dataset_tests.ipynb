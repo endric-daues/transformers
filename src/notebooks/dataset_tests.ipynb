{
 "cells": [
  {
   "cell_type": "markdown",
   "metadata": {},
   "source": [
    "# Dataset Testing Notebook\n",
    "\n",
    "Testing notebook to ensure the PyTorch dataloaders are working as expected for."
   ]
  },
  {
   "cell_type": "code",
   "execution_count": 4,
   "metadata": {},
   "outputs": [],
   "source": [
    "import os\n",
    "from torch.utils.data import DataLoader\n",
    "\n",
    "from datetime import datetime\n",
    "from src.datasets.shakespeare import Shakespeare\n",
    "from src.tokenizers.character_level import CharacterLevelTokenizer"
   ]
  },
  {
   "cell_type": "code",
   "execution_count": 5,
   "metadata": {},
   "outputs": [],
   "source": [
    "data_dpath = \"/Users/endric.daues/workspace/projects/deep_learning/gpt/data/shakespeare\"\n",
    "tokenizer_dpath = \"/Users/endric.daues/workspace/projects/deep_learning/gpt/tokenizers\""
   ]
  },
  {
   "cell_type": "markdown",
   "metadata": {},
   "source": [
    "### Test Dataset"
   ]
  },
  {
   "cell_type": "code",
   "execution_count": 6,
   "metadata": {},
   "outputs": [
    {
     "name": "stdout",
     "output_type": "stream",
     "text": [
      "First Citizen:\n",
      "Before we proceed any further, hear me speak.\n",
      "\n",
      "All:\n",
      "Speak, speak.\n",
      "\n",
      "First Citizen:\n",
      "You\n"
     ]
    }
   ],
   "source": [
    "# Show Data\n",
    "data_fpath = os.path.join(data_dpath, f\"train.txt\")\n",
    "with open(data_fpath, \"r\") as f:\n",
    "    data = f.read()\n",
    "    print(data[:100])"
   ]
  },
  {
   "cell_type": "markdown",
   "metadata": {},
   "source": [
    "### Test Tokenizer"
   ]
  },
  {
   "cell_type": "code",
   "execution_count": 7,
   "metadata": {},
   "outputs": [
    {
     "name": "stdout",
     "output_type": "stream",
     "text": [
      "Tokenizer vocab size: 65\n"
     ]
    },
    {
     "data": {
      "text/plain": [
       "[0, 58, 43, 57, 58]"
      ]
     },
     "execution_count": 7,
     "metadata": {},
     "output_type": "execute_result"
    }
   ],
   "source": [
    "# Test Tokenizer\n",
    "tokenizer = CharacterLevelTokenizer(tokenizer_dpath, data_dpath)\n",
    "tokenizer.encode(\"\\ntest\")"
   ]
  },
  {
   "cell_type": "code",
   "execution_count": 8,
   "metadata": {},
   "outputs": [
    {
     "data": {
      "text/plain": [
       "'\\n'"
      ]
     },
     "execution_count": 8,
     "metadata": {},
     "output_type": "execute_result"
    }
   ],
   "source": [
    "# Decode newline\n",
    "tokenizer.decode([0])"
   ]
  },
  {
   "cell_type": "markdown",
   "metadata": {},
   "source": [
    "### Load Dataset"
   ]
  },
  {
   "cell_type": "code",
   "execution_count": 9,
   "metadata": {},
   "outputs": [
    {
     "name": "stdout",
     "output_type": "stream",
     "text": [
      "instantiating dataset class\n",
      "Tokenizer vocab size: 65\n"
     ]
    }
   ],
   "source": [
    "train_dataset = Shakespeare(data_dpath, tokenizer_dpath, \"train\", block_size=10)\n",
    "\n",
    "training_dataloader = DataLoader(\n",
    "    train_dataset,\n",
    "    batch_size=2,\n",
    "    num_workers=1,\n",
    "    drop_last=True,\n",
    "    prefetch_factor=10,\n",
    "    shuffle=False,\n",
    ")"
   ]
  },
  {
   "cell_type": "code",
   "execution_count": 10,
   "metadata": {},
   "outputs": [
    {
     "data": {
      "text/plain": [
       "(tensor([39, 57,  1, 47,  5,  1, 58, 46, 43,  1]),\n",
       " tensor([57,  1, 47,  5,  1, 58, 46, 43,  1, 53]))"
      ]
     },
     "execution_count": 10,
     "metadata": {},
     "output_type": "execute_result"
    }
   ],
   "source": [
    "# Check direct getitem call\n",
    "train_dataset.__getitem__(1)"
   ]
  },
  {
   "cell_type": "code",
   "execution_count": 14,
   "metadata": {},
   "outputs": [
    {
     "name": "stdout",
     "output_type": "stream",
     "text": [
      "x: tensor([[21,  1, 50, 43, 44, 58,  1, 46, 47, 51],\n",
      "        [ 1, 54, 50, 43, 39, 57, 43,  8,  0,  0]]), shape: torch.Size([2, 10])\n",
      "y: tensor([[ 1, 50, 43, 44, 58,  1, 46, 47, 51,  8],\n",
      "        [54, 50, 43, 39, 57, 43,  8,  0,  0, 23]]), shape: torch.Size([2, 10])\n"
     ]
    }
   ],
   "source": [
    "# Compare to data loader call\n",
    "for data in training_dataloader:\n",
    "    x, y = data\n",
    "    print(f\"x: {x}, shape: {x.shape}\")\n",
    "    print(f\"y: {y}, shape: {y.shape}\")\n",
    "    break"
   ]
  }
 ],
 "metadata": {
  "kernelspec": {
   "display_name": "transformers-3.10.6",
   "language": "python",
   "name": "python3"
  },
  "language_info": {
   "codemirror_mode": {
    "name": "ipython",
    "version": 3
   },
   "file_extension": ".py",
   "mimetype": "text/x-python",
   "name": "python",
   "nbconvert_exporter": "python",
   "pygments_lexer": "ipython3",
   "version": "3.10.6"
  },
  "orig_nbformat": 4
 },
 "nbformat": 4,
 "nbformat_minor": 2
}
